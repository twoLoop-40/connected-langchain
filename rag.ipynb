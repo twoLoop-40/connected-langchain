{
 "cells": [
  {
   "cell_type": "code",
   "execution_count": 95,
   "id": "initial_id",
   "metadata": {
    "collapsed": true,
    "ExecuteTime": {
     "end_time": "2024-03-31T20:49:49.677351Z",
     "start_time": "2024-03-31T20:49:49.673124Z"
    }
   },
   "outputs": [],
   "source": [
    "from operator import itemgetter\n",
    "from pathlib import Path\n",
    "from typing import List\n",
    "\n",
    "from langchain.chains.conversation.base import ConversationChain\n",
    "from langchain.embeddings import CacheBackedEmbeddings\n",
    "from langchain.memory import ConversationBufferWindowMemory, ConversationSummaryBufferMemory\n",
    "from langchain.schema import runnable\n",
    "from langchain.storage import LocalFileStore\n",
    "from langchain_community.chat_message_histories.in_memory import ChatMessageHistory\n",
    "from langchain_community.document_loaders.unstructured import UnstructuredFileLoader\n",
    "from langchain_community.vectorstores.faiss import FAISS\n",
    "from langchain_core.chat_history import BaseChatMessageHistory\n",
    "from langchain_core.documents import Document\n",
    "from langchain_core.prompts import ChatPromptTemplate, PromptTemplate, MessagesPlaceholder\n",
    "from langchain_core.runnables import RunnablePassthrough, RunnableLambda\n",
    "from langchain_core.runnables.history import RunnableWithMessageHistory\n",
    "from langchain_openai import OpenAIEmbeddings, ChatOpenAI\n",
    "from langchain_text_splitters import RecursiveCharacterTextSplitter\n",
    "from dotenv import load_dotenv\n",
    "\n",
    "\n",
    "load_dotenv()\n",
    "#load document\n",
    "loader = UnstructuredFileLoader(\"./files/source_text.txt\")\n",
    "\n",
    "\n",
    "def format_docs(docs: List[Document]) -> str:\n",
    "    return \"\\n\\n\".join([doc.page_content for doc in docs])"
   ]
  },
  {
   "cell_type": "code",
   "outputs": [],
   "source": [
    "splitter = RecursiveCharacterTextSplitter.from_tiktoken_encoder(chunk_size=500, chunk_overlap=50)\n",
    "docs = loader.load_and_split(text_splitter=splitter)\n"
   ],
   "metadata": {
    "collapsed": false,
    "ExecuteTime": {
     "end_time": "2024-03-31T20:49:50.475940Z",
     "start_time": "2024-03-31T20:49:50.351346Z"
    }
   },
   "id": "d1864d7c2050a063",
   "execution_count": 96
  },
  {
   "cell_type": "code",
   "outputs": [],
   "source": [
    "cache_dir = LocalFileStore(f'{Path.cwd()}/.cache')\n",
    "embedding = OpenAIEmbeddings(model=\"text-embedding-3-large\")\n",
    "cache_embedding = CacheBackedEmbeddings.from_bytes_store(underlying_embeddings=embedding,\n",
    "                                                         document_embedding_cache=cache_dir)\n",
    "vector_search = FAISS.from_documents(documents=docs, embedding=cache_embedding)"
   ],
   "metadata": {
    "collapsed": false,
    "ExecuteTime": {
     "end_time": "2024-03-31T20:49:50.693608Z",
     "start_time": "2024-03-31T20:49:50.637340Z"
    }
   },
   "id": "69eb5a04dc4c21dc",
   "execution_count": 97
  },
  {
   "cell_type": "code",
   "outputs": [],
   "source": [
    "model = ChatOpenAI()\n",
    "retriever = vector_search.as_retriever()\n",
    "memory = ConversationSummaryBufferMemory(\n",
    "    llm=model,\n",
    "    max_token_limit=1024,\n",
    "    return_messages=True,\n",
    ")\n",
    "\n",
    "prompt = ChatPromptTemplate.from_messages(\n",
    "    [\n",
    "        (\n",
    "            \"system\",\n",
    "            \"\"\"Based on the following conversation history and context, please answer the question. If you don't know the answer, don't make it up; simply say that you don't know.\n",
    "\n",
    "            Context: {context}\n",
    "            \"\"\"\n",
    "        ),\n",
    "        MessagesPlaceholder(variable_name=\"history\"),\n",
    "        (\"human\", \"{question}\"),\n",
    "    ]\n",
    ")\n",
    "\n",
    "def load_memory(_):\n",
    "    return memory.load_memory_variables({})[\"history\"]\n",
    "\n",
    "\n",
    "chain = (\n",
    "        {\n",
    "            \"context\": itemgetter(\"question\")| retriever | format_docs,\n",
    "            \"question\": RunnablePassthrough(),\n",
    "            \"history\": RunnableLambda(load_memory),\n",
    "        }\n",
    "        | prompt\n",
    "        | model\n",
    ")\n",
    "\n",
    "def invoke_chain(question):\n",
    "    result = chain.invoke({\"question\": question})\n",
    "    memory.save_context(\n",
    "        {\"input\": question},\n",
    "        {\"output\": result.content},\n",
    "    )\n",
    "    print(result)\n",
    "\n",
    "\n"
   ],
   "metadata": {
    "collapsed": false,
    "ExecuteTime": {
     "end_time": "2024-03-31T20:49:51.058832Z",
     "start_time": "2024-03-31T20:49:51.020071Z"
    }
   },
   "id": "f978880d3f4d578d",
   "execution_count": 98
  },
  {
   "cell_type": "code",
   "outputs": [
    {
     "name": "stdout",
     "output_type": "stream",
     "text": [
      "content='Yes, according to the conversation history provided, Jones, Aaronson, and Rutherford were guilty of the crimes they were charged with.' response_metadata={'token_usage': {'completion_tokens': 27, 'prompt_tokens': 1664, 'total_tokens': 1691}, 'model_name': 'gpt-3.5-turbo', 'system_fingerprint': 'fp_3bc1b5746c', 'finish_reason': 'stop', 'logprobs': None}\n"
     ]
    }
   ],
   "source": [
    "invoke_chain(\"Is Aaronson guilty?\")"
   ],
   "metadata": {
    "collapsed": false,
    "ExecuteTime": {
     "end_time": "2024-03-31T20:49:54.831712Z",
     "start_time": "2024-03-31T20:49:52.763903Z"
    }
   },
   "id": "3384081e405e2421",
   "execution_count": 99
  },
  {
   "cell_type": "code",
   "outputs": [
    {
     "name": "stdout",
     "output_type": "stream",
     "text": [
      "content='He wrote the following message on the table:\\n\\nFREEDOM IS SLAVERY\\n\\nTWO AND TWO MAKE FIVE\\n\\nGOD IS POWER' response_metadata={'token_usage': {'completion_tokens': 30, 'prompt_tokens': 1793, 'total_tokens': 1823}, 'model_name': 'gpt-3.5-turbo', 'system_fingerprint': 'fp_3bc1b5746c', 'finish_reason': 'stop', 'logprobs': None}\n"
     ]
    }
   ],
   "source": [
    "invoke_chain(\"What message did he write in the table?\")"
   ],
   "metadata": {
    "collapsed": false,
    "ExecuteTime": {
     "end_time": "2024-03-31T20:50:27.386506Z",
     "start_time": "2024-03-31T20:50:25.933871Z"
    }
   },
   "id": "75d3a610873d6dec",
   "execution_count": 100
  },
  {
   "cell_type": "code",
   "outputs": [
    {
     "name": "stdout",
     "output_type": "stream",
     "text": [
      "content='Julia is a character in the novel, \"1984\" by George Orwell. She is Winston\\'s lover and a fellow member of the Party who rebels against the oppressive regime.' response_metadata={'token_usage': {'completion_tokens': 36, 'prompt_tokens': 1854, 'total_tokens': 1890}, 'model_name': 'gpt-3.5-turbo', 'system_fingerprint': 'fp_3bc1b5746c', 'finish_reason': 'stop', 'logprobs': None}\n"
     ]
    }
   ],
   "source": [
    "invoke_chain(\"Who is Julia?\")"
   ],
   "metadata": {
    "collapsed": false,
    "ExecuteTime": {
     "end_time": "2024-03-31T20:50:56.263989Z",
     "start_time": "2024-03-31T20:50:54.514974Z"
    }
   },
   "id": "c551f04d0fc3ae2d",
   "execution_count": 101
  },
  {
   "cell_type": "code",
   "outputs": [],
   "source": [],
   "metadata": {
    "collapsed": false
   },
   "id": "118db470c39f1f8e"
  }
 ],
 "metadata": {
  "kernelspec": {
   "display_name": "Python 3",
   "language": "python",
   "name": "python3"
  },
  "language_info": {
   "codemirror_mode": {
    "name": "ipython",
    "version": 2
   },
   "file_extension": ".py",
   "mimetype": "text/x-python",
   "name": "python",
   "nbconvert_exporter": "python",
   "pygments_lexer": "ipython2",
   "version": "2.7.6"
  }
 },
 "nbformat": 4,
 "nbformat_minor": 5
}
