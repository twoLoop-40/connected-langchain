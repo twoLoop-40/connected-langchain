{
 "cells": [
  {
   "cell_type": "code",
   "execution_count": 10,
   "id": "initial_id",
   "metadata": {
    "collapsed": true,
    "ExecuteTime": {
     "end_time": "2024-03-25T17:42:32.990382Z",
     "start_time": "2024-03-25T17:42:32.950571Z"
    }
   },
   "outputs": [],
   "source": [
    "from dotenv import load_dotenv\n",
    "from langchain_core.prompts import ChatPromptTemplate\n",
    "from langchain_openai import ChatOpenAI\n",
    "\n",
    "load_dotenv()\n",
    "chat = ChatOpenAI(temperature=0.1)\n"
   ]
  },
  {
   "cell_type": "code",
   "outputs": [],
   "source": [
    "programmer_prompt = ChatPromptTemplate.from_messages(\n",
    "    [\n",
    "        (\"system\", \"너는 프로그래밍 언어에 대한 시를 쓰는 데 아주 능해\"),\n",
    "        (\"human\", \"programming_language: {language}에 대한 시를 써줘\")\n",
    "    ]\n",
    ")"
   ],
   "metadata": {
    "collapsed": false,
    "ExecuteTime": {
     "end_time": "2024-03-25T17:42:33.568643Z",
     "start_time": "2024-03-25T17:42:33.566180Z"
    }
   },
   "id": "71a262aa116d2af4",
   "execution_count": 11
  },
  {
   "cell_type": "code",
   "outputs": [],
   "source": [
    "translation_prompt = ChatPromptTemplate.from_messages(\n",
    "    [\n",
    "        (\"system\", \"너는 시를 해석하는 데 아주 유능해\"),\n",
    "        (\"human\", \"시 {poet} 를 받고 이를 해석해줘\")\n",
    "    ]\n",
    ")"
   ],
   "metadata": {
    "collapsed": false,
    "ExecuteTime": {
     "end_time": "2024-03-25T17:42:34.193671Z",
     "start_time": "2024-03-25T17:42:34.191603Z"
    }
   },
   "id": "c484d33417a9b0fa",
   "execution_count": 12
  },
  {
   "cell_type": "code",
   "outputs": [],
   "source": [
    "from langchain_core.runnables import  RunnablePassthrough\n",
    "\n",
    "programmer_chain = (\n",
    "    {\"language\": RunnablePassthrough()}\n",
    "    | programmer_prompt\n",
    "    | chat\n",
    ")\n",
    "\n",
    "translation_chain = (\n",
    "    translation_prompt | chat\n",
    ")\n",
    "\n",
    "chain = (\n",
    "    {\"poet\": programmer_chain} | translation_chain\n",
    ")"
   ],
   "metadata": {
    "collapsed": false,
    "ExecuteTime": {
     "end_time": "2024-03-25T17:42:34.918778Z",
     "start_time": "2024-03-25T17:42:34.915950Z"
    }
   },
   "id": "4034b5fa4ca2a19c",
   "execution_count": 13
  },
  {
   "cell_type": "code",
   "outputs": [
    {
     "data": {
      "text/plain": "AIMessage(content='이 시는 파이썬 프로그래밍 언어에 대한 찬사와 사랑을 담고 있습니다. 시인은 파이썬이라는 이름이 뱀을 상징하지만, 프로그래밍 언어로서 더 유명하다고 언급하며, 파이썬의 간결하고 가독성이 좋은 코드 작성 경험을 강조합니다. 또한 파이썬의 들여쓰기를 통한 블록 구분, 함수와 클래스를 활용한 모듈화, 다양한 라이브러리를 통해 데이터 처리부터 웹 개발까지 다양한 분야에서 활약하는 점을 송출합니다.\\n\\n시인은 파이썬의 매력이 끝없이 펼쳐지는 것처럼 느껴진다고 표현하며, 파이썬이 개발자들의 마음을 사로잡아 언제나 사랑받는 언어로 남을 것을 기대하고 있습니다. 이 시는 파이썬의 특징과 장점을 감상적으로 표현하여, 파이썬을 사용하는 개발자들에게 공감과 자부심을 전달하는 내용을 담고 있습니다.', response_metadata={'token_usage': {'completion_tokens': 368, 'prompt_tokens': 331, 'total_tokens': 699}, 'model_name': 'gpt-3.5-turbo', 'system_fingerprint': 'fp_3bc1b5746c', 'finish_reason': 'stop', 'logprobs': None})"
     },
     "execution_count": 14,
     "metadata": {},
     "output_type": "execute_result"
    }
   ],
   "source": [
    "chain.invoke(\"python\")"
   ],
   "metadata": {
    "collapsed": false,
    "ExecuteTime": {
     "end_time": "2024-03-25T17:42:53.096780Z",
     "start_time": "2024-03-25T17:42:35.762629Z"
    }
   },
   "id": "9bd1d87b38a04b07",
   "execution_count": 14
  },
  {
   "cell_type": "code",
   "outputs": [],
   "source": [],
   "metadata": {
    "collapsed": false
   },
   "id": "3f00e0f3b2aa87c2"
  }
 ],
 "metadata": {
  "kernelspec": {
   "display_name": "Python 3",
   "language": "python",
   "name": "python3"
  },
  "language_info": {
   "codemirror_mode": {
    "name": "ipython",
    "version": 2
   },
   "file_extension": ".py",
   "mimetype": "text/x-python",
   "name": "python",
   "nbconvert_exporter": "python",
   "pygments_lexer": "ipython2",
   "version": "2.7.6"
  }
 },
 "nbformat": 4,
 "nbformat_minor": 5
}
