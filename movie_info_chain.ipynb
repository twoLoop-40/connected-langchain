{
 "cells": [
  {
   "cell_type": "code",
   "execution_count": 30,
   "id": "initial_id",
   "metadata": {
    "collapsed": true,
    "ExecuteTime": {
     "end_time": "2024-03-26T19:09:23.365162Z",
     "start_time": "2024-03-26T19:09:23.324233Z"
    }
   },
   "outputs": [],
   "source": [
    "from dotenv import load_dotenv\n",
    "from langchain_core.callbacks import StreamingStdOutCallbackHandler\n",
    "from langchain_core.prompts import FewShotChatMessagePromptTemplate, ChatPromptTemplate\n",
    "from langchain_openai import ChatOpenAI\n",
    "\n",
    "load_dotenv()\n",
    "chat = ChatOpenAI(\n",
    "    temperature=0,\n",
    "    model=\"gpt-4-0125-preview\",\n",
    "    streaming=True,\n",
    "    callbacks=[StreamingStdOutCallbackHandler()]\n",
    ")"
   ]
  },
  {
   "cell_type": "code",
   "outputs": [],
   "source": [
    "from movie_examples.examples import examples\n",
    "prompt = ChatPromptTemplate.from_messages(\n",
    "    [\n",
    "        (\"human\", \"{movie_name} 에 대한 정보를 알려줘\"),\n",
    "        (\"ai\",\"{answer}\")\n",
    "    ]\n",
    ")\n",
    "\n",
    "example_prompt = FewShotChatMessagePromptTemplate(\n",
    "    example_prompt=prompt,\n",
    "    examples=examples,    \n",
    ")\n",
    "\n",
    "final_prompt = ChatPromptTemplate.from_messages(\n",
    "    [\n",
    "        (\"system\", \"너는 영화 전문가야, 예제를 보고 형식에 맞고 간결하게 답해줘\"),\n",
    "        example_prompt,\n",
    "        (\"human\", \"{movie_name}에 대한 정보를 알려줘\")    \n",
    "    ]\n",
    ")\n",
    "\n"
   ],
   "metadata": {
    "collapsed": false,
    "ExecuteTime": {
     "end_time": "2024-03-26T19:10:20.728195Z",
     "start_time": "2024-03-26T19:10:20.724727Z"
    }
   },
   "id": "b688f3b767dbb307",
   "execution_count": 33
  },
  {
   "cell_type": "code",
   "outputs": [
    {
     "name": "stdout",
     "output_type": "stream",
     "text": [
      "\"아바타\"는 2009년에 개봉한 영화로, 제임스 카메론이 감독을 맡았습니다. 이 영화는 미국에서 제작되었으며, 장르는 액션, 어드벤처, 판타지, SF입니다. \"아바타\"는 혁신적인 3D 기술과 시각 효과로 큰 주목을 받았으며, 외계 행성 판도라를 배경으로 한 이야기를 통해 환경 보호와 인간성에 대한 메시지를 전달합니다. 전 세계적으로 큰 흥행 성공을 거두었고, 여러 영화상을 수상했습니다."
     ]
    },
    {
     "data": {
      "text/plain": "AIMessage(content='\"아바타\"는 2009년에 개봉한 영화로, 제임스 카메론이 감독을 맡았습니다. 이 영화는 미국에서 제작되었으며, 장르는 액션, 어드벤처, 판타지, SF입니다. \"아바타\"는 혁신적인 3D 기술과 시각 효과로 큰 주목을 받았으며, 외계 행성 판도라를 배경으로 한 이야기를 통해 환경 보호와 인간성에 대한 메시지를 전달합니다. 전 세계적으로 큰 흥행 성공을 거두었고, 여러 영화상을 수상했습니다.', response_metadata={'finish_reason': 'stop'})"
     },
     "execution_count": 34,
     "metadata": {},
     "output_type": "execute_result"
    }
   ],
   "source": [
    "chain = final_prompt | chat\n",
    "chain.invoke(\"아바타\")"
   ],
   "metadata": {
    "collapsed": false,
    "ExecuteTime": {
     "end_time": "2024-03-26T19:10:32.438178Z",
     "start_time": "2024-03-26T19:10:21.345306Z"
    }
   },
   "id": "9367c379725b044a",
   "execution_count": 34
  },
  {
   "cell_type": "code",
   "outputs": [],
   "source": [],
   "metadata": {
    "collapsed": false
   },
   "id": "12f7e4affc9ec615"
  }
 ],
 "metadata": {
  "kernelspec": {
   "display_name": "Python 3",
   "language": "python",
   "name": "python3"
  },
  "language_info": {
   "codemirror_mode": {
    "name": "ipython",
    "version": 2
   },
   "file_extension": ".py",
   "mimetype": "text/x-python",
   "name": "python",
   "nbconvert_exporter": "python",
   "pygments_lexer": "ipython2",
   "version": "2.7.6"
  }
 },
 "nbformat": 4,
 "nbformat_minor": 5
}
